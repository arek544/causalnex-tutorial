{
 "cells": [
  {
   "cell_type": "markdown",
   "id": "9e57a4a4-76f5-4a7d-bc77-d2af692d0daf",
   "metadata": {},
   "source": [
    "## Installation guide\n",
    "\n",
    "We recommend installing CausalNex in a new virtual environment for *each* of your projects. To install CausalNex:"
   ]
  },
  {
   "cell_type": "code",
   "execution_count": null,
   "id": "2ffeb778-063e-45ea-bdc6-b77fd5c5f990",
   "metadata": {},
   "outputs": [],
   "source": [
    "!pip install causalnex"
   ]
  },
  {
   "cell_type": "markdown",
   "id": "bf6cd081-c174-497b-bbb2-762bebb12199",
   "metadata": {},
   "source": [
    "To check your installation:"
   ]
  },
  {
   "cell_type": "code",
   "execution_count": null,
   "id": "3184f102-e30c-444a-a03e-eae926f2ddf5",
   "metadata": {},
   "outputs": [],
   "source": [
    "python -c \"import causalnex\""
   ]
  },
  {
   "cell_type": "markdown",
   "id": "39529e7d-5c6a-45db-a04c-9819f5265853",
   "metadata": {},
   "source": [
    "\n",
    "\n",
    "\n",
    "If CausalNex is not installed correctly you will see an error message similar to the following:\n",
    "\n",
    "```bash\n",
    "ModuleNotFoundError: No module named 'causalnex'\n",
    "```\n",
    "\n",
    "You should not see any output if CausalNex is correctly installed.\n"
   ]
  },
  {
   "cell_type": "code",
   "execution_count": null,
   "id": "fb4ce1a2-ca20-48f1-8733-300fba9ff563",
   "metadata": {},
   "outputs": [],
   "source": [
    "pip freeze > requirements.txt"
   ]
  }
 ],
 "metadata": {
  "kernelspec": {
   "display_name": "Python 3 (ipykernel)",
   "language": "python",
   "name": "python3"
  },
  "language_info": {
   "codemirror_mode": {
    "name": "ipython",
    "version": 3
   },
   "file_extension": ".py",
   "mimetype": "text/x-python",
   "name": "python",
   "nbconvert_exporter": "python",
   "pygments_lexer": "ipython3",
   "version": "3.8.16"
  }
 },
 "nbformat": 4,
 "nbformat_minor": 5
}
